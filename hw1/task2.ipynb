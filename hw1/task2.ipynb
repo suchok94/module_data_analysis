{
 "cells": [
  {
   "cell_type": "markdown",
   "id": "f6d0f672-5445-4201-b3be-9a230a02f4bb",
   "metadata": {},
   "source": [
    "# Задача №2. \"Посещаемость кинотеатра\"\n",
    "\n",
    "### Вводная\n",
    "Исследуем данные о посещаемости кинотеатра в разные дни недели. На основе предоставленных данных из файла CSV, задача состоит в анализе общей тенденции посещаемости, чтобы кинотеатр мог оптимизировать свои маркетинговые стратегии и расписание сеансов.\n",
    "\n",
    "### Задача\n",
    "Прочитать данные из файла CSV и провести их первоначальную обработку.\n",
    "Найти среднее количество посещений в день.\n",
    "Определить медиану и моду посещаемости.\n",
    "Вычислить стандартное отклонение посещаемости.\n",
    "Определить день с минимальной и максимальной посещаемостью.\n",
    "\n",
    "### Входные данные\n",
    "Файл attendance.csv содержит две колонки: День недели и Количество посетителей.\n",
    "```\n",
    "День недели,Количество посетителей\n",
    "Понедельник,120\n",
    "Вторник,150\n",
    "Среда,90\n",
    "Четверг,200\n",
    "Пятница,300\n",
    "Суббота,500\n",
    "Воскресенье,450\n",
    "```\n",
    "### Выходные данные\n",
    "```\n",
    "Среднее количество посещений: {среднее_количество_посещений}\n",
    "Медиана посещаемости: {медиана_посещаемости}\n",
    "Мода посещаемости: {мода_посещаемости}\n",
    "Стандартное отклонение посещаемости: {стандартное_отклонение}\n",
    "День с минимальной посещаемостью: {минимальная_посещаемость}\n",
    "День с максимальной посещаемостью: {максимальная_посещаемость}\n",
    "```"
   ]
  },
  {
   "cell_type": "code",
   "execution_count": 71,
   "id": "e1824c98-f746-4ce0-8aee-701b89a620ff",
   "metadata": {},
   "outputs": [
    {
     "name": "stdout",
     "output_type": "stream",
     "text": [
      "Среднее количество посещений: 258.5\n",
      "Медиана посещаемости: 200.0\n",
      "Мода посещаемости: 120.0\n",
      "Стандартное отклонение посещаемости: 150.94261169433594\n",
      "День с минимальной посещаемостью: Среда, 90.0 посетителей\n",
      "День с максимальной посещаемостью: Суббота, 500.0 посетителей\n"
     ]
    }
   ],
   "source": [
    "import csv\n",
    "import numpy as np\n",
    "from collections import Counter\n",
    "\n",
    "\n",
    "\n",
    "def open_file_csv(path):\n",
    "    with open(path, newline='\\n', encoding='utf-8') as csvfile:\n",
    "        reader = csv.reader(csvfile)\n",
    "        first_column = []\n",
    "        second_column = []\n",
    "        for row in reader:\n",
    "            first_column.append(row[0])\n",
    "            second_column.append(row[1])\n",
    "            \n",
    "        first_column.pop(0)\n",
    "        second_column.pop(0)\n",
    "        \n",
    "        return first_column, second_column\n",
    "\n",
    "data = open_file_csv('cinema_attendance.csv')\n",
    "\n",
    "days = data[0]\n",
    "visits = np.array(data[1], dtype= np.float32)\n",
    "\n",
    "\n",
    "print(\n",
    "    f'Среднее количество посещений: {np.mean(visits, dtype = np.float16)}\\n'\n",
    "    f'Медиана посещаемости: {np.median(visits)}\\n'\n",
    "    f'Мода посещаемости: {Counter(visits).most_common(1)[0][0]}\\n'\n",
    "    f'Стандартное отклонение посещаемости: {np.sqrt(np.var(visits))}\\n'\n",
    "    f'День с минимальной посещаемостью: {days[np.argmin(visits)]}, {np.min(visits)} посетителей\\n'\n",
    "    f'День с максимальной посещаемостью: {days[np.argmax(visits)]}, {np.max(visits)} посетителей'\n",
    ")\n"
   ]
  },
  {
   "cell_type": "code",
   "execution_count": null,
   "id": "5ab9783e-0d62-4391-9967-46d66466d99a",
   "metadata": {},
   "outputs": [],
   "source": []
  }
 ],
 "metadata": {
  "kernelspec": {
   "display_name": "Python 3 (ipykernel)",
   "language": "python",
   "name": "python3"
  },
  "language_info": {
   "codemirror_mode": {
    "name": "ipython",
    "version": 3
   },
   "file_extension": ".py",
   "mimetype": "text/x-python",
   "name": "python",
   "nbconvert_exporter": "python",
   "pygments_lexer": "ipython3",
   "version": "3.12.8"
  }
 },
 "nbformat": 4,
 "nbformat_minor": 5
}
