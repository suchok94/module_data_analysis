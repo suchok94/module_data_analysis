{
 "cells": [
  {
   "cell_type": "markdown",
   "id": "bad75531-13a6-4507-999e-0a56b824f643",
   "metadata": {},
   "source": [
    "# Задача №3. \"Оценки студентов по двум предметам\"\n",
    "\n",
    "### Вводная\n",
    "Анализируем оценки студентов по двум разным предметам в университете, чтобы выяснить, по какому предмету студенты в среднем показывают лучшие результаты и какова общая вариативность оценок по каждому из предметов. Используя данные из файла CSV, задача состоит в вычислении основных статистических характеристик для каждого из предметов и сравнении их с помощью визуализации.\n",
    "\n",
    "### Задача\n",
    "1. Прочитать данные из файла CSV и провести их первоначальную обработку.\n",
    "2. Для каждого предмета найти средний балл, медиану и моду оценок.\n",
    "3. Вычислить стандартное отклонение оценок по каждому предмету.\n",
    "4. Сравнить распределения оценок по двум предметам, используя гистограммы с помощью библиотеки Matplotlib.\n",
    "5. Определить предмет с лучшей средней оценкой и меньшим разбросом оценок.\n",
    "\n",
    "### Входные данные\n",
    "Файл grades.csv содержит три колонки: Имя студента, Оценка по математике и Оценка по литературе.\n",
    "```\n",
    "Имя студента,Оценка по математике,Оценка по литературе\n",
    "Анна,5,4\n",
    "Борис,3,5\n",
    "Виктор,4,3\n",
    "Диана,5,5\n",
    "Елена,2,4\n",
    "```\n",
    "\n",
    "### Выходные данные\n",
    "```\n",
    "Средний балл по математике: {средний_балл_математика}\n",
    "Средний балл по литературе: {средний_балл_литература}\n",
    "Медиана оценок по математике: {медиана_математика}, по литературе: {медиана_литература}\n",
    "Стандартное отклонение оценок по математике: {стандартное_отклонение_математика}, по литературе: {стандартное_отклонение_литература}\n",
    "```\n",
    "**Визуализация распределений оценок.**"
   ]
  },
  {
   "cell_type": "code",
   "execution_count": 60,
   "id": "c8303c91-48b2-4568-93ee-a35033e38d83",
   "metadata": {},
   "outputs": [
    {
     "name": "stdout",
     "output_type": "stream",
     "text": [
      "Средний балл по математике: 3.799999952316284\n",
      "Средний балл по литературе: 4.199999809265137\n",
      "Медиана оценок по математике: 4.0, по литературе: 4.0\n",
      "Стандартное отклонение оценок по математике: 1.1661903858184814, по литературе: 0.7483315467834473\n",
      "\n"
     ]
    },
    {
     "data": {
      "image/png": "[encoded data removed]",
      "text/plain": [
       "<Figure size 640x480 with 1 Axes>"
      ]
     },
     "metadata": {},
     "output_type": "display_data"
    }
   ],
   "source": [
    "import csv\n",
    "import numpy as np\n",
    "from collections import Counter\n",
    "from matplotlib import pyplot as plt\n",
    "\n",
    "\n",
    "def open_file_csv(path):\n",
    "    with open(path, newline='\\n', encoding='utf-8') as csvfile:\n",
    "        reader = csv.reader(csvfile)\n",
    "        first_column = []\n",
    "        second_column = []\n",
    "        third_column = []\n",
    "        for row in reader:\n",
    "            first_column.append(row[0])\n",
    "            second_column.append(row[1])\n",
    "            third_column.append(row[2])\n",
    "            \n",
    "        first_column.pop(0)\n",
    "        second_column.pop(0)\n",
    "        third_column.pop(0)\n",
    "        \n",
    "        return first_column, second_column, third_column\n",
    "\n",
    "data = open_file_csv('students_scores.csv')\n",
    "\n",
    "students = data[0]\n",
    "scores_math = np.array(data[1], dtype= np.float32)\n",
    "scores_litr = np.array(data[2], dtype= np.float32)\n",
    "\n",
    "print(f'Средний балл по математике: {np.mean(scores_math)}\\n'\n",
    "f'Средний балл по литературе: {np.mean(scores_litr)}\\n'\n",
    "f'Медиана оценок по математике: {np.median(scores_math)}, по литературе: {np.median(scores_litr)}\\n'\n",
    "f'Стандартное отклонение оценок по математике: {np.sqrt(np.var(scores_math))}, по литературе: {np.sqrt(np.var(scores_litr))}\\n')\n",
    "\n",
    "\n",
    "\n",
    "scores = {'Математика': scores_math,'Литература': scores_litr,}\n",
    "\n",
    "x = np.arange(len(students))  \n",
    "width = 0.25  \n",
    "multiplier = 0\n",
    "\n",
    "fig, ax = plt.subplots(layout='constrained')\n",
    "\n",
    "for attribute, measurement in scores.items():\n",
    "    offset = width * multiplier\n",
    "    rects = ax.bar(x + offset, measurement, width, label=attribute)\n",
    "    ax.bar_label(rects, padding=3)\n",
    "    multiplier += 1\n",
    "\n",
    "ax.set_ylabel('Оценка')\n",
    "ax.set_title('Оценки по предметам')\n",
    "ax.set_xticks(x + width, students)\n",
    "ax.legend(loc='best', ncols=1)\n",
    "\n",
    "\n",
    "plt.show()\n"
   ]
  },
  {
   "cell_type": "code",
   "execution_count": null,
   "id": "75ec630b-3cf0-4f25-9b4d-c66de12783c1",
   "metadata": {},
   "outputs": [],
   "source": []
  }
 ],
 "metadata": {
  "kernelspec": {
   "display_name": "Python 3 (ipykernel)",
   "language": "python",
   "name": "python3"
  },
  "language_info": {
   "codemirror_mode": {
    "name": "ipython",
    "version": 3
   },
   "file_extension": ".py",
   "mimetype": "text/x-python",
   "name": "python",
   "nbconvert_exporter": "python",
   "pygments_lexer": "ipython3",
   "version": "3.12.8"
  }
 },
 "nbformat": 4,
 "nbformat_minor": 5
}
